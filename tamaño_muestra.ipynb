{
 "cells": [
  {
   "cell_type": "code",
   "execution_count": 16,
   "metadata": {},
   "outputs": [
    {
     "data": {
      "application/vnd.jupyter.widget-view+json": {
       "model_id": "cd7caf1c14784fb5ac69402914305098",
       "version_major": 2,
       "version_minor": 0
      },
      "text/plain": [
       "interactive(children=(IntSlider(value=10, description='n', max=1000, min=1), Output()), _dom_classes=('widget-…"
      ]
     },
     "metadata": {},
     "output_type": "display_data"
    }
   ],
   "source": [
    "from ipywidgets import interact\n",
    "import ipywidgets as widgets\n",
    "\n",
    "import numpy as np # linear algebra\n",
    "import pandas as pd # data processing, CSV file I/O (e.g. pd.read_csv)\n",
    "import random\n",
    "import matplotlib.pyplot as plt\n",
    "import math\n",
    "import scipy.stats as stats\n",
    "\n",
    "\n",
    "from IPython.display import display, Markdown, clear_output\n",
    "import ipywidgets as widgets\n",
    "from ipywidgets import interact, interact_manual\n",
    "\n",
    "\n",
    "@interact(n=widgets.IntSlider(min=1, max=1000, step=1, value=10))\n",
    "def g(n):\n",
    "    data = np.random.uniform(low = 150, high= 155, size = 10000)\n",
    "    df = pd.DataFrame(data)\n",
    "    data = np.random.normal(260,100, size = n)\n",
    "    promedio = []\n",
    "    for i in range(100):\n",
    "            muestra = df.sample(n)\n",
    "            prom = np.mean(muestra[0])\n",
    "            promedio.append(prom)\n",
    "    dfp = pd.DataFrame(promedio)    \n",
    "    mu = math.floor(dfp.mean())\n",
    "    sigma = math.floor(dfp.std())\n",
    "    num_bins = 100\n",
    "   \n",
    "    plt.hist(data, num_bins, \n",
    "                            density = 1, \n",
    "                            edgecolor = 'black', alpha = 0.9)\n",
    "    #plt.show()\n",
    "    return (n)"
   ]
  }
 ],
 "metadata": {
  "kernelspec": {
   "display_name": "Python 3.8.9 64-bit",
   "language": "python",
   "name": "python3"
  },
  "language_info": {
   "codemirror_mode": {
    "name": "ipython",
    "version": 3
   },
   "file_extension": ".py",
   "mimetype": "text/x-python",
   "name": "python",
   "nbconvert_exporter": "python",
   "pygments_lexer": "ipython3",
   "version": "3.8.9"
  },
  "orig_nbformat": 4,
  "vscode": {
   "interpreter": {
    "hash": "31f2aee4e71d21fbe5cf8b01ff0e069b9275f58929596ceb00d14d90e3e16cd6"
   }
  }
 },
 "nbformat": 4,
 "nbformat_minor": 2
}
